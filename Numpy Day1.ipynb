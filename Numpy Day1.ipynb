{
 "cells": [
  {
   "cell_type": "code",
   "execution_count": 7,
   "id": "5b346d07-bcb2-40e6-bc47-5ea04ca62a82",
   "metadata": {},
   "outputs": [
    {
     "name": "stdout",
     "output_type": "stream",
     "text": [
      "Requirement already satisfied: numpy in c:\\users\\prerna ranjan\\appdata\\local\\programs\\python\\python311\\lib\\site-packages (1.26.1)Note: you may need to restart the kernel to use updated packages.\n",
      "\n"
     ]
    },
    {
     "name": "stderr",
     "output_type": "stream",
     "text": [
      "\n",
      "[notice] A new release of pip is available: 23.2.1 -> 24.0\n",
      "[notice] To update, run: python.exe -m pip install --upgrade pip\n"
     ]
    }
   ],
   "source": [
    "pip install numpy"
   ]
  },
  {
   "cell_type": "code",
   "execution_count": 2,
   "id": "4e085ea5-b537-4b62-8de3-6715d8229e6b",
   "metadata": {},
   "outputs": [],
   "source": [
    "import numpy as np"
   ]
  },
  {
   "cell_type": "code",
   "execution_count": 11,
   "id": "addf2b67-4989-40f0-b395-a6e3f8a51197",
   "metadata": {},
   "outputs": [
    {
     "name": "stdout",
     "output_type": "stream",
     "text": [
      "[12  3  4]\n"
     ]
    },
    {
     "data": {
      "text/plain": [
       "array([12,  3,  4])"
      ]
     },
     "execution_count": 11,
     "metadata": {},
     "output_type": "execute_result"
    }
   ],
   "source": [
    "array1 = np.array([12,3,4])#1D Array \n",
    "print(array1)\n",
    "array1"
   ]
  },
  {
   "cell_type": "code",
   "execution_count": 14,
   "id": "dc3afed4-e199-4109-a3fd-f33009b02b1b",
   "metadata": {},
   "outputs": [
    {
     "name": "stdout",
     "output_type": "stream",
     "text": [
      "[[12  3  4]\n",
      " [10 15 35]\n",
      " [ 1 19 80]]\n"
     ]
    },
    {
     "data": {
      "text/plain": [
       "array([[12,  3,  4],\n",
       "       [10, 15, 35],\n",
       "       [ 1, 19, 80]])"
      ]
     },
     "execution_count": 14,
     "metadata": {},
     "output_type": "execute_result"
    }
   ],
   "source": [
    "array2 = np.array([[12,3,4],[10,15,35],[1,19,80]]) #2D Array / Data\n",
    "print(array2)\n",
    "array2"
   ]
  },
  {
   "cell_type": "code",
   "execution_count": 3,
   "id": "dddaaa4f-c9ef-491b-be90-ae0bf96220e1",
   "metadata": {},
   "outputs": [
    {
     "name": "stdout",
     "output_type": "stream",
     "text": [
      "[[[12  3  4]\n",
      "  [10 15 35]\n",
      "  [ 1 19 80]]]\n"
     ]
    },
    {
     "data": {
      "text/plain": [
       "array([[[12,  3,  4],\n",
       "        [10, 15, 35],\n",
       "        [ 1, 19, 80]]])"
      ]
     },
     "execution_count": 3,
     "metadata": {},
     "output_type": "execute_result"
    }
   ],
   "source": [
    "array3 = np.array([[[12,3,4],[10,15,35],[1,19,80]]]) #3D Array / Data\n",
    "print(array3)\n",
    "array3"
   ]
  }
 ],
 "metadata": {
  "kernelspec": {
   "display_name": "Python 3 (ipykernel)",
   "language": "python",
   "name": "python3"
  },
  "language_info": {
   "codemirror_mode": {
    "name": "ipython",
    "version": 3
   },
   "file_extension": ".py",
   "mimetype": "text/x-python",
   "name": "python",
   "nbconvert_exporter": "python",
   "pygments_lexer": "ipython3",
   "version": "3.11.5"
  }
 },
 "nbformat": 4,
 "nbformat_minor": 5
}
